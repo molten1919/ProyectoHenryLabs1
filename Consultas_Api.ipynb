{
 "cells": [
  {
   "cell_type": "code",
   "execution_count": 146,
   "metadata": {},
   "outputs": [],
   "source": [
    "import pandas as pd"
   ]
  },
  {
   "cell_type": "code",
   "execution_count": 147,
   "metadata": {},
   "outputs": [],
   "source": [
    "# leer los csv que transformamos\n",
    "amazon_t = pd.read_csv('amazon_t.csv')\n",
    "disney_t = pd.read_csv('disney_t.csv')\n",
    "hulu_t = pd.read_csv('hulu_t.csv')\n",
    "netflix_t = pd.read_csv('netflix_t.csv')"
   ]
  },
  {
   "cell_type": "code",
   "execution_count": 152,
   "metadata": {},
   "outputs": [],
   "source": [
    "# Concatenar en un solo dataframe\n",
    "df_concatenado = pd.concat([amazon_t, disney_t, hulu_t, netflix_t], axis=0)"
   ]
  },
  {
   "cell_type": "code",
   "execution_count": 323,
   "metadata": {},
   "outputs": [
    {
     "data": {
      "text/html": [
       "<div>\n",
       "<style scoped>\n",
       "    .dataframe tbody tr th:only-of-type {\n",
       "        vertical-align: middle;\n",
       "    }\n",
       "\n",
       "    .dataframe tbody tr th {\n",
       "        vertical-align: top;\n",
       "    }\n",
       "\n",
       "    .dataframe thead th {\n",
       "        text-align: right;\n",
       "    }\n",
       "</style>\n",
       "<table border=\"1\" class=\"dataframe\">\n",
       "  <thead>\n",
       "    <tr style=\"text-align: right;\">\n",
       "      <th></th>\n",
       "      <th>Unnamed: 0.1</th>\n",
       "      <th>Unnamed: 0</th>\n",
       "      <th>show_id</th>\n",
       "      <th>type</th>\n",
       "      <th>title</th>\n",
       "      <th>director</th>\n",
       "      <th>cast</th>\n",
       "      <th>country</th>\n",
       "      <th>date_added</th>\n",
       "      <th>release_year</th>\n",
       "      <th>rating</th>\n",
       "      <th>duration</th>\n",
       "      <th>listed_in</th>\n",
       "      <th>description</th>\n",
       "      <th>score</th>\n",
       "      <th>duration_int</th>\n",
       "      <th>duration_type</th>\n",
       "      <th>platform</th>\n",
       "    </tr>\n",
       "  </thead>\n",
       "  <tbody>\n",
       "    <tr>\n",
       "      <th>0</th>\n",
       "      <td>0</td>\n",
       "      <td>0</td>\n",
       "      <td>as1</td>\n",
       "      <td>movie</td>\n",
       "      <td>the grand seduction</td>\n",
       "      <td>don mckellar</td>\n",
       "      <td>brendan gleeson, taylor kitsch, gordon pinsent</td>\n",
       "      <td>canada</td>\n",
       "      <td>2021-03-30</td>\n",
       "      <td>2014</td>\n",
       "      <td>g</td>\n",
       "      <td>113 min</td>\n",
       "      <td>comedy, drama</td>\n",
       "      <td>a small fishing village must procure a local d...</td>\n",
       "      <td>99</td>\n",
       "      <td>113.0</td>\n",
       "      <td>'min'</td>\n",
       "      <td>amazon</td>\n",
       "    </tr>\n",
       "    <tr>\n",
       "      <th>1</th>\n",
       "      <td>1</td>\n",
       "      <td>1</td>\n",
       "      <td>as2</td>\n",
       "      <td>movie</td>\n",
       "      <td>take care good night</td>\n",
       "      <td>girish joshi</td>\n",
       "      <td>mahesh manjrekar, abhay mahajan, sachin khedekar</td>\n",
       "      <td>india</td>\n",
       "      <td>2021-03-30</td>\n",
       "      <td>2018</td>\n",
       "      <td>13+</td>\n",
       "      <td>110 min</td>\n",
       "      <td>drama, international</td>\n",
       "      <td>a metro family decides to fight a cyber crimin...</td>\n",
       "      <td>37</td>\n",
       "      <td>110.0</td>\n",
       "      <td>'min'</td>\n",
       "      <td>amazon</td>\n",
       "    </tr>\n",
       "    <tr>\n",
       "      <th>2</th>\n",
       "      <td>2</td>\n",
       "      <td>2</td>\n",
       "      <td>as3</td>\n",
       "      <td>movie</td>\n",
       "      <td>secrets of deception</td>\n",
       "      <td>josh webber</td>\n",
       "      <td>tom sizemore, lorenzo lamas, robert lasardo, r...</td>\n",
       "      <td>united states</td>\n",
       "      <td>2021-03-30</td>\n",
       "      <td>2017</td>\n",
       "      <td>g</td>\n",
       "      <td>74 min</td>\n",
       "      <td>action, drama, suspense</td>\n",
       "      <td>after a man discovers his wife is cheating on ...</td>\n",
       "      <td>20</td>\n",
       "      <td>74.0</td>\n",
       "      <td>'min'</td>\n",
       "      <td>amazon</td>\n",
       "    </tr>\n",
       "    <tr>\n",
       "      <th>3</th>\n",
       "      <td>3</td>\n",
       "      <td>3</td>\n",
       "      <td>as4</td>\n",
       "      <td>movie</td>\n",
       "      <td>pink: staying true</td>\n",
       "      <td>sonia anderson</td>\n",
       "      <td>interviews with: pink, adele, beyoncé, britney...</td>\n",
       "      <td>united states</td>\n",
       "      <td>2021-03-30</td>\n",
       "      <td>2014</td>\n",
       "      <td>g</td>\n",
       "      <td>69 min</td>\n",
       "      <td>documentary</td>\n",
       "      <td>pink breaks the mold once again, bringing her ...</td>\n",
       "      <td>27</td>\n",
       "      <td>69.0</td>\n",
       "      <td>'min'</td>\n",
       "      <td>amazon</td>\n",
       "    </tr>\n",
       "    <tr>\n",
       "      <th>4</th>\n",
       "      <td>4</td>\n",
       "      <td>4</td>\n",
       "      <td>as5</td>\n",
       "      <td>movie</td>\n",
       "      <td>monster maker</td>\n",
       "      <td>giles foster</td>\n",
       "      <td>harry dean stanton, kieran o'brien, george cos...</td>\n",
       "      <td>united kingdom</td>\n",
       "      <td>2021-03-30</td>\n",
       "      <td>1989</td>\n",
       "      <td>g</td>\n",
       "      <td>45 min</td>\n",
       "      <td>drama, fantasy</td>\n",
       "      <td>teenage matt banting wants to work with a famo...</td>\n",
       "      <td>75</td>\n",
       "      <td>45.0</td>\n",
       "      <td>'min'</td>\n",
       "      <td>amazon</td>\n",
       "    </tr>\n",
       "    <tr>\n",
       "      <th>...</th>\n",
       "      <td>...</td>\n",
       "      <td>...</td>\n",
       "      <td>...</td>\n",
       "      <td>...</td>\n",
       "      <td>...</td>\n",
       "      <td>...</td>\n",
       "      <td>...</td>\n",
       "      <td>...</td>\n",
       "      <td>...</td>\n",
       "      <td>...</td>\n",
       "      <td>...</td>\n",
       "      <td>...</td>\n",
       "      <td>...</td>\n",
       "      <td>...</td>\n",
       "      <td>...</td>\n",
       "      <td>...</td>\n",
       "      <td>...</td>\n",
       "      <td>...</td>\n",
       "    </tr>\n",
       "    <tr>\n",
       "      <th>22993</th>\n",
       "      <td>8802</td>\n",
       "      <td>8802</td>\n",
       "      <td>ns8803</td>\n",
       "      <td>movie</td>\n",
       "      <td>zodiac</td>\n",
       "      <td>david fincher</td>\n",
       "      <td>mark ruffalo, jake gyllenhaal, robert downey j...</td>\n",
       "      <td>united states</td>\n",
       "      <td>2019-11-20</td>\n",
       "      <td>2007</td>\n",
       "      <td>r</td>\n",
       "      <td>158 min</td>\n",
       "      <td>cult movies, dramas, thrillers</td>\n",
       "      <td>a political cartoonist, a crime reporter and a...</td>\n",
       "      <td>20</td>\n",
       "      <td>158.0</td>\n",
       "      <td>min</td>\n",
       "      <td>netflix</td>\n",
       "    </tr>\n",
       "    <tr>\n",
       "      <th>22994</th>\n",
       "      <td>8803</td>\n",
       "      <td>8803</td>\n",
       "      <td>ns8804</td>\n",
       "      <td>tv show</td>\n",
       "      <td>zombie dumb</td>\n",
       "      <td>NaN</td>\n",
       "      <td>NaN</td>\n",
       "      <td>NaN</td>\n",
       "      <td>2019-07-01</td>\n",
       "      <td>2018</td>\n",
       "      <td>tv-y7</td>\n",
       "      <td>2 seasons</td>\n",
       "      <td>kids' tv, korean tv shows, tv comedies</td>\n",
       "      <td>while living alone in a spooky town, a young g...</td>\n",
       "      <td>8</td>\n",
       "      <td>2.0</td>\n",
       "      <td>season</td>\n",
       "      <td>netflix</td>\n",
       "    </tr>\n",
       "    <tr>\n",
       "      <th>22995</th>\n",
       "      <td>8804</td>\n",
       "      <td>8804</td>\n",
       "      <td>ns8805</td>\n",
       "      <td>movie</td>\n",
       "      <td>zombieland</td>\n",
       "      <td>ruben fleischer</td>\n",
       "      <td>jesse eisenberg, woody harrelson, emma stone, ...</td>\n",
       "      <td>united states</td>\n",
       "      <td>2019-11-01</td>\n",
       "      <td>2009</td>\n",
       "      <td>r</td>\n",
       "      <td>88 min</td>\n",
       "      <td>comedies, horror movies</td>\n",
       "      <td>looking to survive in a world taken over by zo...</td>\n",
       "      <td>55</td>\n",
       "      <td>88.0</td>\n",
       "      <td>min</td>\n",
       "      <td>netflix</td>\n",
       "    </tr>\n",
       "    <tr>\n",
       "      <th>22996</th>\n",
       "      <td>8805</td>\n",
       "      <td>8805</td>\n",
       "      <td>ns8806</td>\n",
       "      <td>movie</td>\n",
       "      <td>zoom</td>\n",
       "      <td>peter hewitt</td>\n",
       "      <td>tim allen, courteney cox, chevy chase, kate ma...</td>\n",
       "      <td>united states</td>\n",
       "      <td>2020-01-11</td>\n",
       "      <td>2006</td>\n",
       "      <td>pg</td>\n",
       "      <td>88 min</td>\n",
       "      <td>children &amp; family movies, comedies</td>\n",
       "      <td>dragged from civilian life, a former superhero...</td>\n",
       "      <td>7</td>\n",
       "      <td>88.0</td>\n",
       "      <td>min</td>\n",
       "      <td>netflix</td>\n",
       "    </tr>\n",
       "    <tr>\n",
       "      <th>22997</th>\n",
       "      <td>8806</td>\n",
       "      <td>8806</td>\n",
       "      <td>ns8807</td>\n",
       "      <td>movie</td>\n",
       "      <td>zubaan</td>\n",
       "      <td>mozez singh</td>\n",
       "      <td>vicky kaushal, sarah-jane dias, raaghav chanan...</td>\n",
       "      <td>india</td>\n",
       "      <td>2019-03-02</td>\n",
       "      <td>2015</td>\n",
       "      <td>tv-14</td>\n",
       "      <td>111 min</td>\n",
       "      <td>dramas, international movies, music &amp; musicals</td>\n",
       "      <td>a scrappy but poor boy worms his way into a ty...</td>\n",
       "      <td>44</td>\n",
       "      <td>111.0</td>\n",
       "      <td>min</td>\n",
       "      <td>netflix</td>\n",
       "    </tr>\n",
       "  </tbody>\n",
       "</table>\n",
       "<p>22998 rows × 18 columns</p>\n",
       "</div>"
      ],
      "text/plain": [
       "       Unnamed: 0.1  Unnamed: 0 show_id     type                 title  \\\n",
       "0                 0           0     as1    movie   the grand seduction   \n",
       "1                 1           1     as2    movie  take care good night   \n",
       "2                 2           2     as3    movie  secrets of deception   \n",
       "3                 3           3     as4    movie    pink: staying true   \n",
       "4                 4           4     as5    movie         monster maker   \n",
       "...             ...         ...     ...      ...                   ...   \n",
       "22993          8802        8802  ns8803    movie                zodiac   \n",
       "22994          8803        8803  ns8804  tv show           zombie dumb   \n",
       "22995          8804        8804  ns8805    movie            zombieland   \n",
       "22996          8805        8805  ns8806    movie                  zoom   \n",
       "22997          8806        8806  ns8807    movie                zubaan   \n",
       "\n",
       "              director                                               cast  \\\n",
       "0         don mckellar     brendan gleeson, taylor kitsch, gordon pinsent   \n",
       "1         girish joshi   mahesh manjrekar, abhay mahajan, sachin khedekar   \n",
       "2          josh webber  tom sizemore, lorenzo lamas, robert lasardo, r...   \n",
       "3       sonia anderson  interviews with: pink, adele, beyoncé, britney...   \n",
       "4         giles foster  harry dean stanton, kieran o'brien, george cos...   \n",
       "...                ...                                                ...   \n",
       "22993    david fincher  mark ruffalo, jake gyllenhaal, robert downey j...   \n",
       "22994              NaN                                                NaN   \n",
       "22995  ruben fleischer  jesse eisenberg, woody harrelson, emma stone, ...   \n",
       "22996     peter hewitt  tim allen, courteney cox, chevy chase, kate ma...   \n",
       "22997      mozez singh  vicky kaushal, sarah-jane dias, raaghav chanan...   \n",
       "\n",
       "              country  date_added  release_year rating   duration  \\\n",
       "0              canada  2021-03-30          2014      g    113 min   \n",
       "1               india  2021-03-30          2018    13+    110 min   \n",
       "2       united states  2021-03-30          2017      g     74 min   \n",
       "3       united states  2021-03-30          2014      g     69 min   \n",
       "4      united kingdom  2021-03-30          1989      g     45 min   \n",
       "...               ...         ...           ...    ...        ...   \n",
       "22993   united states  2019-11-20          2007      r    158 min   \n",
       "22994             NaN  2019-07-01          2018  tv-y7  2 seasons   \n",
       "22995   united states  2019-11-01          2009      r     88 min   \n",
       "22996   united states  2020-01-11          2006     pg     88 min   \n",
       "22997           india  2019-03-02          2015  tv-14    111 min   \n",
       "\n",
       "                                            listed_in  \\\n",
       "0                                       comedy, drama   \n",
       "1                                drama, international   \n",
       "2                             action, drama, suspense   \n",
       "3                                         documentary   \n",
       "4                                      drama, fantasy   \n",
       "...                                               ...   \n",
       "22993                  cult movies, dramas, thrillers   \n",
       "22994          kids' tv, korean tv shows, tv comedies   \n",
       "22995                         comedies, horror movies   \n",
       "22996              children & family movies, comedies   \n",
       "22997  dramas, international movies, music & musicals   \n",
       "\n",
       "                                             description  score  duration_int  \\\n",
       "0      a small fishing village must procure a local d...     99         113.0   \n",
       "1      a metro family decides to fight a cyber crimin...     37         110.0   \n",
       "2      after a man discovers his wife is cheating on ...     20          74.0   \n",
       "3      pink breaks the mold once again, bringing her ...     27          69.0   \n",
       "4      teenage matt banting wants to work with a famo...     75          45.0   \n",
       "...                                                  ...    ...           ...   \n",
       "22993  a political cartoonist, a crime reporter and a...     20         158.0   \n",
       "22994  while living alone in a spooky town, a young g...      8           2.0   \n",
       "22995  looking to survive in a world taken over by zo...     55          88.0   \n",
       "22996  dragged from civilian life, a former superhero...      7          88.0   \n",
       "22997  a scrappy but poor boy worms his way into a ty...     44         111.0   \n",
       "\n",
       "      duration_type platform  \n",
       "0             'min'   amazon  \n",
       "1             'min'   amazon  \n",
       "2             'min'   amazon  \n",
       "3             'min'   amazon  \n",
       "4             'min'   amazon  \n",
       "...             ...      ...  \n",
       "22993           min  netflix  \n",
       "22994        season  netflix  \n",
       "22995           min  netflix  \n",
       "22996           min  netflix  \n",
       "22997           min  netflix  \n",
       "\n",
       "[22998 rows x 18 columns]"
      ]
     },
     "execution_count": 323,
     "metadata": {},
     "output_type": "execute_result"
    }
   ],
   "source": [
    "df_concatenado = pd.read_csv('https://raw.githubusercontent.com/molten1919/ProyectoHenryLabs1/main/df_concatenado.csv')\n",
    "df_concatenado"
   ]
  },
  {
   "attachments": {},
   "cell_type": "markdown",
   "metadata": {},
   "source": [
    "### API query 1\n",
    "Cantidad de veces que aparece una keyword en el título de peliculas/series, por plataforma"
   ]
  },
  {
   "cell_type": "code",
   "execution_count": 328,
   "metadata": {},
   "outputs": [],
   "source": [
    "# Funcion\n",
    "keyword = ''\n",
    "lista_plataformas = ['netflix', 'disney', 'hulu', 'amazon']\n",
    "def get_word_count(plataforma, keyword):\n",
    "    df_full = df_concatenado\n",
    "    df_full = df_full[df_full['platform'] == plataforma]\n",
    "    output = df_full[df_full['title'].str.contains(keyword, na=False)]\n",
    "    if plataforma not in lista_plataformas:\n",
    "        return print('La plataforma introducida no esta en nuestra base de datos')\n",
    "    else:\n",
    "        return len(output)\n",
    "    "
   ]
  },
  {
   "cell_type": "code",
   "execution_count": 337,
   "metadata": {},
   "outputs": [
    {
     "data": {
      "text/plain": [
       "196"
      ]
     },
     "execution_count": 337,
     "metadata": {},
     "output_type": "execute_result"
    }
   ],
   "source": [
    "get_word_count('netflix', 'love')"
   ]
  },
  {
   "attachments": {},
   "cell_type": "markdown",
   "metadata": {},
   "source": [
    "### API query 2"
   ]
  },
  {
   "attachments": {},
   "cell_type": "markdown",
   "metadata": {},
   "source": [
    "##### Cantidad de películas por plataforma con un puntaje mayor a XX en determinado año"
   ]
  },
  {
   "cell_type": "code",
   "execution_count": 338,
   "metadata": {},
   "outputs": [],
   "source": [
    "# Funcion corregida para tener la plataforma como argumento\n",
    "anio = int\n",
    "def get_score_count(plataforma, anio):\n",
    "    df_full = df_concatenado\n",
    "    df_full = df_full[df_full['platform'] == plataforma]\n",
    "    if plataforma not in lista_plataformas:\n",
    "        return print('La plataforma introducida no esta en nuestra base de datos')\n",
    "    else:\n",
    "        return len(df_full[(df_full.score > 20) & (df_full.release_year == anio)])"
   ]
  },
  {
   "cell_type": "code",
   "execution_count": 341,
   "metadata": {},
   "outputs": [
    {
     "data": {
      "text/plain": [
       "157"
      ]
     },
     "execution_count": 341,
     "metadata": {},
     "output_type": "execute_result"
    }
   ],
   "source": [
    "get_score_count('netflix', 2010)"
   ]
  },
  {
   "attachments": {},
   "cell_type": "markdown",
   "metadata": {},
   "source": [
    "### API query 3"
   ]
  },
  {
   "attachments": {},
   "cell_type": "markdown",
   "metadata": {},
   "source": [
    "##### La segunda película con mayor score para una plataforma determinada, según el orden alfabético de los títulos.\n",
    "\n",
    "Deberias ordenar las peliculas de una plataforma segun su score en primer lugar, luego por orden alfabetico (como para desempatar), la 2da pelicula que aparezca es la que estamos pidiendo."
   ]
  },
  {
   "cell_type": "code",
   "execution_count": 373,
   "metadata": {},
   "outputs": [],
   "source": [
    "# funcion\n",
    "def get_second_score(plataforma):\n",
    "    if plataforma not in lista_plataformas:\n",
    "        return print('La plataforma introducida no esta en nuestra base de datos')\n",
    "    else:\n",
    "        df_full = df_concatenado\n",
    "        df_full = df_full[df_full['platform'] == plataforma]\n",
    "        by_score_alph = df_full.sort_values(['score', 'title'], ascending=[False, True])\n",
    "        segundo_titulo = by_score_alph.iloc[1, 4]\n",
    "        score = by_score_alph.iloc[1, 14]\n",
    "        return print('La Segunda película con mayor score para la plataforma es: ', segundo_titulo , 'con un score de ', score )\n"
   ]
  },
  {
   "cell_type": "code",
   "execution_count": 376,
   "metadata": {},
   "outputs": [
    {
     "name": "stdout",
     "output_type": "stream",
     "text": [
      "La Segunda película con mayor score para la plataforma es:  15-minute cardio core 8.0 workout (with weights) con un score de  100\n"
     ]
    }
   ],
   "source": [
    "get_second_score('amazon')"
   ]
  },
  {
   "attachments": {},
   "cell_type": "markdown",
   "metadata": {},
   "source": [
    "### API query 4"
   ]
  },
  {
   "attachments": {},
   "cell_type": "markdown",
   "metadata": {},
   "source": [
    "Película que más duró según año, plataforma y tipo de duración"
   ]
  },
  {
   "cell_type": "code",
   "execution_count": 380,
   "metadata": {},
   "outputs": [],
   "source": [
    "def get_longest(plataforma, duration_type, release_year):\n",
    "    if plataforma not in lista_plataformas:\n",
    "        return print('La plataforma introducida no esta en nuestra base de datos')\n",
    "    else:\n",
    "        df_full = df_concatenado\n",
    "        df_full = df_full[df_full['platform'] == plataforma]\n",
    "        df_full = df_full[df_full['duration_type'] == duration_type]\n",
    "        df_full = df_full[df_full['release_year'] == release_year]\n",
    "        titulo_dur_type = df_full.loc[df_full.duration_int.idxmax()]\n",
    "        return print(titulo_dur_type['title'], int(titulo_dur_type['duration_int']), (titulo_dur_type['duration_type']))"
   ]
  },
  {
   "cell_type": "code",
   "execution_count": 383,
   "metadata": {},
   "outputs": [
    {
     "name": "stdout",
     "output_type": "stream",
     "text": [
      "sairat 173 min\n"
     ]
    }
   ],
   "source": [
    "get_longest('netflix', 'min', 2016)"
   ]
  },
  {
   "attachments": {},
   "cell_type": "markdown",
   "metadata": {},
   "source": [
    "### API query 5"
   ]
  },
  {
   "attachments": {},
   "cell_type": "markdown",
   "metadata": {},
   "source": [
    "Cantidad de series y películas por rating"
   ]
  },
  {
   "cell_type": "code",
   "execution_count": 291,
   "metadata": {},
   "outputs": [],
   "source": [
    "def get_rating_count(rating):\n",
    "    df_full = df_concatenado\n",
    "    df_full = df_full[df_full['rating'] == rating]\n",
    "    return print('rating: ', df_full.iloc[0, 9], ', cantidad: ', len(df_full))"
   ]
  },
  {
   "cell_type": "code",
   "execution_count": 321,
   "metadata": {},
   "outputs": [
    {
     "name": "stdout",
     "output_type": "stream",
     "text": [
      "rating:  18+ , cantidad:  1243\n"
     ]
    }
   ],
   "source": [
    "get_rating_count('18+')"
   ]
  },
  {
   "cell_type": "code",
   "execution_count": 322,
   "metadata": {},
   "outputs": [],
   "source": [
    "df_concatenado.to_csv('df_concatenado.csv')"
   ]
  }
 ],
 "metadata": {
  "kernelspec": {
   "display_name": "Python 3",
   "language": "python",
   "name": "python3"
  },
  "language_info": {
   "codemirror_mode": {
    "name": "ipython",
    "version": 3
   },
   "file_extension": ".py",
   "mimetype": "text/x-python",
   "name": "python",
   "nbconvert_exporter": "python",
   "pygments_lexer": "ipython3",
   "version": "3.10.1"
  },
  "orig_nbformat": 4,
  "vscode": {
   "interpreter": {
    "hash": "26de051ba29f2982a8de78e945f0abaf191376122a1563185a90213a26c5da77"
   }
  }
 },
 "nbformat": 4,
 "nbformat_minor": 2
}
